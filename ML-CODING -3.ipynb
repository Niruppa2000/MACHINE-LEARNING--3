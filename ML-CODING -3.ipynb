{
 "cells": [
  {
   "cell_type": "markdown",
   "id": "6de7e565",
   "metadata": {},
   "source": [
    "# QUESTION - 1"
   ]
  },
  {
   "cell_type": "code",
   "execution_count": 11,
   "id": "774809e7",
   "metadata": {},
   "outputs": [
    {
     "name": "stdout",
     "output_type": "stream",
     "text": [
      "LogisticRegression Accuracy: 1.00\n"
     ]
    }
   ],
   "source": [
    "import pandas as pd\n",
    "from sklearn.model_selection import train_test_split\n",
    "from sklearn.preprocessing import LabelEncoder\n",
    "from sklearn.linear_model import LogisticRegression\n",
    "from sklearn.tree import DecisionTreeClassifier\n",
    "from sklearn.ensemble import RandomForestClassifier\n",
    "from sklearn.metrics import accuracy_score\n",
    "\n",
    "# Define dataset directly\n",
    "data = {\n",
    "    \"Weight (grams)\": [150, 170, 200, 210, 180],\n",
    "    \"Size (cm)\": [7.5, 8.0, 9.0, 9.5, 8.5],\n",
    "    \"Color Score\": [0.8, 0.7, 0.6, 0.5, 0.65],\n",
    "    \"Fruit Type\": [\"Apple\", \"Apple\", \"Orange\", \"Orange\", \"Apple\"]\n",
    "}\n",
    "\n",
    "# Convert to DataFrame\n",
    "df = pd.DataFrame(data)\n",
    "\n",
    "# Encode categorical target variable\n",
    "encoder = LabelEncoder()\n",
    "df['Fruit Type'] = encoder.fit_transform(df['Fruit Type'])\n",
    "\n",
    "# Split features and target\n",
    "X = df.drop(columns=[\"Fruit Type\"])\n",
    "y = df[\"Fruit Type\"]\n",
    "\n",
    "# Split dataset\n",
    "X_train, X_test, y_train, y_test = train_test_split(X, y, test_size=0.2, random_state=42)\n",
    "\n",
    "# Train models\n",
    "from sklearn.linear_model import LogisticRegression\n",
    "lr = LogisticRegression()\n",
    "model = lr.fit(X_train,y_train)\n",
    "\n",
    "# Evaluate model\n",
    "y_pred = model.predict(X_test)\n",
    "print(f\"{'LogisticRegression'} Accuracy: {accuracy_score(y_test, y_pred):.2f}\")\n"
   ]
  },
  {
   "cell_type": "code",
   "execution_count": 10,
   "id": "3e3594f3",
   "metadata": {},
   "outputs": [
    {
     "name": "stdout",
     "output_type": "stream",
     "text": [
      "DecisionTree Accuracy: 1.00\n"
     ]
    }
   ],
   "source": [
    "import pandas as pd\n",
    "from sklearn.model_selection import train_test_split\n",
    "from sklearn.preprocessing import LabelEncoder\n",
    "from sklearn.linear_model import LogisticRegression\n",
    "from sklearn.tree import DecisionTreeClassifier\n",
    "from sklearn.ensemble import RandomForestClassifier\n",
    "from sklearn.metrics import accuracy_score\n",
    "\n",
    "# Define dataset directly\n",
    "data = {\n",
    "    \"Weight (grams)\": [150, 170, 200, 210, 180],\n",
    "    \"Size (cm)\": [7.5, 8.0, 9.0, 9.5, 8.5],\n",
    "    \"Color Score\": [0.8, 0.7, 0.6, 0.5, 0.65],\n",
    "    \"Fruit Type\": [\"Apple\", \"Apple\", \"Orange\", \"Orange\", \"Apple\"]\n",
    "}\n",
    "\n",
    "# Convert to DataFrame\n",
    "df = pd.DataFrame(data)\n",
    "\n",
    "# Encode categorical target variable\n",
    "encoder = LabelEncoder()\n",
    "df['Fruit Type'] = encoder.fit_transform(df['Fruit Type'])\n",
    "\n",
    "# Split features and target\n",
    "X = df.drop(columns=[\"Fruit Type\"])\n",
    "y = df[\"Fruit Type\"]\n",
    "\n",
    "# Split dataset\n",
    "X_train, X_test, y_train, y_test = train_test_split(X, y, test_size=0.2, random_state=42)\n",
    "\n",
    "# Train models\n",
    "from sklearn.tree import DecisionTreeClassifier\n",
    "dl = DecisionTreeClassifier()\n",
    "model = dl.fit(X_train,y_train)\n",
    "\n",
    "\n",
    "# Evaluate models\n",
    "y_pred = model.predict(X_test)\n",
    "print(f\"{'DecisionTree'} Accuracy: {accuracy_score(y_test, y_pred):.2f}\")\n"
   ]
  },
  {
   "cell_type": "code",
   "execution_count": 9,
   "id": "9108427c",
   "metadata": {},
   "outputs": [
    {
     "name": "stdout",
     "output_type": "stream",
     "text": [
      "Random Forest Accuracy: 1.00\n"
     ]
    }
   ],
   "source": [
    "import pandas as pd\n",
    "from sklearn.model_selection import train_test_split\n",
    "from sklearn.preprocessing import LabelEncoder\n",
    "from sklearn.linear_model import LogisticRegression\n",
    "from sklearn.tree import DecisionTreeClassifier\n",
    "from sklearn.ensemble import RandomForestClassifier\n",
    "from sklearn.metrics import accuracy_score\n",
    "\n",
    "# Define dataset directly\n",
    "data = {\n",
    "    \"Weight (grams)\": [150, 170, 200, 210, 180],\n",
    "    \"Size (cm)\": [7.5, 8.0, 9.0, 9.5, 8.5],\n",
    "    \"Color Score\": [0.8, 0.7, 0.6, 0.5, 0.65],\n",
    "    \"Fruit Type\": [\"Apple\", \"Apple\", \"Orange\", \"Orange\", \"Apple\"]\n",
    "}\n",
    "\n",
    "# Convert to DataFrame\n",
    "df = pd.DataFrame(data)\n",
    "\n",
    "# Encode categorical target variable\n",
    "encoder = LabelEncoder()\n",
    "df['Fruit Type'] = encoder.fit_transform(df['Fruit Type'])\n",
    "\n",
    "# Split features and target\n",
    "X = df.drop(columns=[\"Fruit Type\"])\n",
    "y = df[\"Fruit Type\"]\n",
    "\n",
    "# Split dataset\n",
    "X_train, X_test, y_train, y_test = train_test_split(X, y, test_size=0.2, random_state=42)\n",
    "\n",
    "# Train models\n",
    "from sklearn.ensemble import RandomForestClassifier\n",
    "rf = RandomForestClassifier()\n",
    "model = rf.fit(X_train,y_train)\n",
    "\n",
    "\n",
    "# Evaluate models\n",
    "y_pred = model.predict(X_test)\n",
    "print(f\"{'Random Forest'} Accuracy: {accuracy_score(y_test, y_pred):.2f}\")\n"
   ]
  },
  {
   "cell_type": "markdown",
   "id": "6e902af8",
   "metadata": {},
   "source": [
    "# QUESTION 2"
   ]
  },
  {
   "cell_type": "code",
   "execution_count": null,
   "id": "c75a5ef2",
   "metadata": {},
   "outputs": [],
   "source": [
    "import pandas as pd\n",
    "from sklearn.model_selection import train_test_split\n",
    "from sklearn.linear_model import LinearRegression\n",
    "from sklearn.tree import DecisionTreeRegressor\n",
    "from sklearn.ensemble import RandomForestRegressor\n",
    "from sklearn.metrics import mean_absolute_error\n",
    "\n",
    "# Define dataset\n",
    "df = pd.DataFrame(data)\n",
    "\n",
    "# Split data\n",
    "X = df.drop(columns=[\"Price\"])\n",
    "y = df[\"Price\"]\n",
    "X_train, X_test, y_train, y_test = train_test_split(X, y, test_size=0.2, random_state=42)\n",
    "\n",
    "# Define models\n",
    "models = {\n",
    "    \"Linear Regression\": LinearRegression(),\n",
    "    \"Decision Tree\": DecisionTreeRegressor(),\n",
    "    \"Random Forest\": RandomForestRegressor()\n",
    "}\n",
    "\n",
    "# Train & evaluate\n",
    "for name, model in models.items():\n",
    "    model.fit(X_train, y_train)\n",
    "    y_pred = model.predict(X_test)\n",
    "    print(f\"{name} MAE: {mean_absolute_error(y_test, y_pred):.2f}\")\n"
   ]
  },
  {
   "cell_type": "code",
   "execution_count": 14,
   "id": "cf6de4d7",
   "metadata": {},
   "outputs": [],
   "source": [
    "data = {\n",
    "    \"Area (sqft)\": [850, 900, 1200, 1500, 1750, 2000, 2500, 2750, 3000],\n",
    "    \"Bedrooms\": [2, 2, 3, 3, 4, 4, 4, 5, 5],\n",
    "    \"Age (years)\": [5, 10, 8, 15, 20, 18, 12, 30, 25],\n",
    "    \"Price\": [150000, 170000, 210000, 250000, 275000, 300000, 350000, 375000, 400000]\n",
    "}"
   ]
  },
  {
   "cell_type": "code",
   "execution_count": 15,
   "id": "7111d5b6",
   "metadata": {},
   "outputs": [
    {
     "name": "stdout",
     "output_type": "stream",
     "text": [
      "LinearRegression MAE: 6972.56\n"
     ]
    }
   ],
   "source": [
    "import pandas as pd\n",
    "from sklearn.model_selection import train_test_split\n",
    "from sklearn.linear_model import LinearRegression\n",
    "from sklearn.tree import DecisionTreeRegressor\n",
    "from sklearn.ensemble import RandomForestRegressor\n",
    "from sklearn.metrics import mean_absolute_error\n",
    "\n",
    "# Define dataset\n",
    "df = pd.DataFrame(data)\n",
    "\n",
    "# Split data\n",
    "X = df.drop(columns=[\"Price\"])\n",
    "y = df[\"Price\"]\n",
    "X_train, X_test, y_train, y_test = train_test_split(X, y, test_size=0.2, random_state=42)\n",
    "\n",
    "# Define models\n",
    "Lr = LinearRegression()\n",
    "model = Lr.fit(X_train ,y_train)\n",
    "\n",
    "# Train & evaluate\n",
    "\n",
    "y_pred = model.predict(X_test)\n",
    "print(f\"{'LinearRegression'} MAE: {mean_absolute_error(y_test, y_pred):.2f}\")\n"
   ]
  },
  {
   "cell_type": "code",
   "execution_count": 16,
   "id": "b7bd4f52",
   "metadata": {},
   "outputs": [
    {
     "name": "stdout",
     "output_type": "stream",
     "text": [
      "DecisionTreeRegressor MAE: 32500.00\n"
     ]
    }
   ],
   "source": [
    "import pandas as pd\n",
    "from sklearn.model_selection import train_test_split\n",
    "from sklearn.linear_model import LinearRegression\n",
    "from sklearn.tree import DecisionTreeRegressor\n",
    "from sklearn.ensemble import RandomForestRegressor\n",
    "from sklearn.metrics import mean_absolute_error\n",
    "\n",
    "# Define dataset\n",
    "df = pd.DataFrame(data)\n",
    "\n",
    "# Split data\n",
    "X = df.drop(columns=[\"Price\"])\n",
    "y = df[\"Price\"]\n",
    "X_train, X_test, y_train, y_test = train_test_split(X, y, test_size=0.2, random_state=42)\n",
    "\n",
    "# Define models\n",
    "df = DecisionTreeRegressor()\n",
    "model = df.fit(X_train ,y_train)\n",
    "\n",
    "# Train & evaluate\n",
    "\n",
    "y_pred = model.predict(X_test)\n",
    "print(f\"{'DecisionTreeRegressor'} MAE: {mean_absolute_error(y_test, y_pred):.2f}\")\n"
   ]
  },
  {
   "cell_type": "code",
   "execution_count": 17,
   "id": "254b5292",
   "metadata": {},
   "outputs": [
    {
     "name": "stdout",
     "output_type": "stream",
     "text": [
      "RandomForestRegressor MAE: 15975.00\n"
     ]
    }
   ],
   "source": [
    "import pandas as pd\n",
    "from sklearn.model_selection import train_test_split\n",
    "from sklearn.linear_model import LinearRegression\n",
    "from sklearn.tree import DecisionTreeRegressor\n",
    "from sklearn.ensemble import RandomForestRegressor\n",
    "from sklearn.metrics import mean_absolute_error\n",
    "\n",
    "# Define dataset\n",
    "df = pd.DataFrame(data)\n",
    "\n",
    "# Split data\n",
    "X = df.drop(columns=[\"Price\"])\n",
    "y = df[\"Price\"]\n",
    "X_train, X_test, y_train, y_test = train_test_split(X, y, test_size=0.2, random_state=42)\n",
    "\n",
    "# Define models\n",
    "rf = RandomForestRegressor()\n",
    "model = rf.fit(X_train ,y_train)\n",
    "\n",
    "# Train & evaluate\n",
    "\n",
    "y_pred = model.predict(X_test)\n",
    "print(f\"{'RandomForestRegressor'} MAE: {mean_absolute_error(y_test, y_pred):.2f}\")\n"
   ]
  },
  {
   "cell_type": "markdown",
   "id": "0347b076",
   "metadata": {},
   "source": [
    "# QUESTION 3"
   ]
  },
  {
   "cell_type": "code",
   "execution_count": 19,
   "id": "bf02b3b9",
   "metadata": {},
   "outputs": [],
   "source": [
    "#.Decision Tree, Random Forest) to predict if a loan will be approved (1) or rejected (0).\n",
    "data = {\n",
    "    \"Credit Score\": [600, 650, 700, 750, 800, 850, 500, 550, 580],\n",
    "    \"Income ($)\": [40000, 50000, 60000, 80000, 100000, 120000, 25000, 30000, 35000],\n",
    "    \"Loan Amount\": [20000, 25000, 30000, 35000, 40000, 45000, 15000, 20000, 22000],\n",
    "    \"Approval\": [0, 0, 1, 1, 1, 1, 0, 0, 0]\n",
    "}\n"
   ]
  },
  {
   "cell_type": "code",
   "execution_count": 20,
   "id": "75a4df98",
   "metadata": {},
   "outputs": [
    {
     "name": "stdout",
     "output_type": "stream",
     "text": [
      "LogisticRegression Accuracy: 0.50\n"
     ]
    }
   ],
   "source": [
    "import pandas as pd\n",
    "from sklearn.model_selection import train_test_split\n",
    "from sklearn.linear_model import LogisticRegression\n",
    "from sklearn.tree import DecisionTreeClassifier\n",
    "from sklearn.ensemble import RandomForestClassifier\n",
    "from sklearn.metrics import accuracy_score\n",
    "\n",
    "# Define dataset\n",
    "df = pd.DataFrame(data)\n",
    "\n",
    "# Split data\n",
    "X = df.drop(columns=[\"Approval\"])\n",
    "y = df[\"Approval\"]\n",
    "X_train, X_test, y_train, y_test = train_test_split(X, y, test_size=0.2, random_state=42)\n",
    "\n",
    "# Define models\n",
    "Lr= LogisticRegression()\n",
    "model = Lr.fit(X_train,y_train)\n",
    "\n",
    "# Train & evaluate\n",
    "y_pred = model.predict(X_test)\n",
    "print(f\"{'LogisticRegression'} Accuracy: {accuracy_score(y_test, y_pred):.2f}\")\n"
   ]
  },
  {
   "cell_type": "code",
   "execution_count": 21,
   "id": "909e63e7",
   "metadata": {},
   "outputs": [
    {
     "name": "stdout",
     "output_type": "stream",
     "text": [
      "DecisionTreeclassifier Accuracy: 1.00\n"
     ]
    }
   ],
   "source": [
    "import pandas as pd\n",
    "from sklearn.model_selection import train_test_split\n",
    "from sklearn.linear_model import LogisticRegression\n",
    "from sklearn.tree import DecisionTreeClassifier\n",
    "from sklearn.ensemble import RandomForestClassifier\n",
    "from sklearn.metrics import accuracy_score\n",
    "\n",
    "# Define dataset\n",
    "df = pd.DataFrame(data)\n",
    "\n",
    "# Split data\n",
    "X = df.drop(columns=[\"Approval\"])\n",
    "y = df[\"Approval\"]\n",
    "X_train, X_test, y_train, y_test = train_test_split(X, y, test_size=0.2, random_state=42)\n",
    "\n",
    "# Define models\n",
    "dt = DecisionTreeClassifier()\n",
    "model = dt.fit(X_train,y_train)\n",
    "\n",
    "# Train & evaluate\n",
    "y_pred = model.predict(X_test)\n",
    "print(f\"{'DecisionTreeclassifier'} Accuracy: {accuracy_score(y_test, y_pred):.2f}\")\n"
   ]
  },
  {
   "cell_type": "code",
   "execution_count": 22,
   "id": "6eb891f3",
   "metadata": {},
   "outputs": [
    {
     "name": "stdout",
     "output_type": "stream",
     "text": [
      "RandomForestClassifier Accuracy: 1.00\n"
     ]
    }
   ],
   "source": [
    "import pandas as pd\n",
    "from sklearn.model_selection import train_test_split\n",
    "from sklearn.linear_model import LogisticRegression\n",
    "from sklearn.tree import DecisionTreeClassifier\n",
    "from sklearn.ensemble import RandomForestClassifier\n",
    "from sklearn.metrics import accuracy_score\n",
    "\n",
    "# Define dataset\n",
    "df = pd.DataFrame(data)\n",
    "\n",
    "# Split data\n",
    "X = df.drop(columns=[\"Approval\"])\n",
    "y = df[\"Approval\"]\n",
    "X_train, X_test, y_train, y_test = train_test_split(X, y, test_size=0.2, random_state=42)\n",
    "\n",
    "# Define models\n",
    "rf = RandomForestClassifier()\n",
    "model = rf.fit(X_train,y_train)\n",
    "\n",
    "# Train & evaluate\n",
    "y_pred = model.predict(X_test)\n",
    "print(f\"{'RandomForestClassifier'} Accuracy: {accuracy_score(y_test, y_pred):.2f}\")\n"
   ]
  },
  {
   "cell_type": "markdown",
   "id": "efb46810",
   "metadata": {},
   "source": [
    "# QUESTION 4"
   ]
  },
  {
   "cell_type": "code",
   "execution_count": 23,
   "id": "dcbfd1e6",
   "metadata": {},
   "outputs": [],
   "source": [
    "#.Classify transactions as fraudulent (1) or non-fraudulent (0) using three classification models (SVM, Logistic Regression, Random Forest).\n",
    "data = {\n",
    "    \"Transaction Amount ($)\": [10, 500, 3000, 50, 7000, 25000, 100, 50000, 200],\n",
    "    \"Transaction Type\": [0, 1, 1, 0, 1, 1, 0, 1, 0],  # 0: Normal, 1: High-Risk\n",
    "    \"Fraud\": [0, 0, 1, 0, 1, 1, 0, 1, 0]\n",
    "}\n"
   ]
  },
  {
   "cell_type": "code",
   "execution_count": 25,
   "id": "1da6053a",
   "metadata": {},
   "outputs": [
    {
     "name": "stdout",
     "output_type": "stream",
     "text": [
      "SVC Accuracy: 1.00\n"
     ]
    }
   ],
   "source": [
    "import pandas as pd\n",
    "from sklearn.model_selection import train_test_split\n",
    "from sklearn.svm import SVC\n",
    "from sklearn.linear_model import LogisticRegression\n",
    "from sklearn.ensemble import RandomForestClassifier\n",
    "from sklearn.metrics import accuracy_score\n",
    "\n",
    "# Define dataset\n",
    "df = pd.DataFrame(data)\n",
    "\n",
    "# Split data\n",
    "X = df.drop(columns=[\"Fraud\"])\n",
    "y = df[\"Fraud\"]\n",
    "X_train, X_test, y_train, y_test = train_test_split(X, y, test_size=0.2, random_state=42)\n",
    "\n",
    "# Define models\n",
    "sc= SVC()\n",
    "model = sc.fit(X_train,y_train)\n",
    "\n",
    "# Train & evaluate\n",
    "\n",
    "y_pred = model.predict(X_test)\n",
    "print(f\"{'SVC'} Accuracy: {accuracy_score(y_test, y_pred):.2f}\")\n"
   ]
  },
  {
   "cell_type": "code",
   "execution_count": 26,
   "id": "38818343",
   "metadata": {},
   "outputs": [
    {
     "name": "stdout",
     "output_type": "stream",
     "text": [
      "LogisticRegression Accuracy: 1.00\n"
     ]
    }
   ],
   "source": [
    "import pandas as pd\n",
    "from sklearn.model_selection import train_test_split\n",
    "from sklearn.svm import SVC\n",
    "from sklearn.linear_model import LogisticRegression\n",
    "from sklearn.ensemble import RandomForestClassifier\n",
    "from sklearn.metrics import accuracy_score\n",
    "\n",
    "# Define dataset\n",
    "df = pd.DataFrame(data)\n",
    "\n",
    "# Split data\n",
    "X = df.drop(columns=[\"Fraud\"])\n",
    "y = df[\"Fraud\"]\n",
    "X_train, X_test, y_train, y_test = train_test_split(X, y, test_size=0.2, random_state=42)\n",
    "\n",
    "# Define models\n",
    "Lr= LogisticRegression()\n",
    "model = Lr.fit(X_train,y_train)\n",
    "\n",
    "# Train & evaluate\n",
    "\n",
    "y_pred = model.predict(X_test)\n",
    "print(f\"{'LogisticRegression'} Accuracy: {accuracy_score(y_test, y_pred):.2f}\")\n"
   ]
  },
  {
   "cell_type": "code",
   "execution_count": 27,
   "id": "3831fd35",
   "metadata": {},
   "outputs": [
    {
     "name": "stdout",
     "output_type": "stream",
     "text": [
      "RandomForestClassifier Accuracy: 1.00\n"
     ]
    }
   ],
   "source": [
    "import pandas as pd\n",
    "from sklearn.model_selection import train_test_split\n",
    "from sklearn.svm import SVC\n",
    "from sklearn.linear_model import LogisticRegression\n",
    "from sklearn.ensemble import RandomForestClassifier\n",
    "from sklearn.metrics import accuracy_score\n",
    "\n",
    "# Define dataset\n",
    "df = pd.DataFrame(data)\n",
    "\n",
    "# Split data\n",
    "X = df.drop(columns=[\"Fraud\"])\n",
    "y = df[\"Fraud\"]\n",
    "X_train, X_test, y_train, y_test = train_test_split(X, y, test_size=0.2, random_state=42)\n",
    "\n",
    "# Define models\n",
    "rf = RandomForestClassifier()\n",
    "model = rf.fit(X_train,y_train)\n",
    "\n",
    "# Train & evaluate\n",
    "\n",
    "y_pred = model.predict(X_test)\n",
    "print(f\"{'RandomForestClassifier'} Accuracy: {accuracy_score(y_test, y_pred):.2f}\")\n"
   ]
  },
  {
   "cell_type": "markdown",
   "id": "7f1945bc",
   "metadata": {},
   "source": [
    "# QUESTION 5"
   ]
  },
  {
   "cell_type": "code",
   "execution_count": 28,
   "id": "e4d0e5bb",
   "metadata": {},
   "outputs": [],
   "source": [
    "#.Apply K-Means, DBSCAN, and Agglomerative Clustering on the following dataset and print cluster counts.\n",
    "data = {\n",
    "    \"Annual_Income\": [50, 55, 60, 65, 70],\n",
    "    \"Spending_Score\": [40, 35, 70, 75, 80]\n",
    "}\n"
   ]
  },
  {
   "cell_type": "code",
   "execution_count": null,
   "id": "5a489ceb",
   "metadata": {},
   "outputs": [],
   "source": [
    "import pandas as pd\n",
    "from sklearn.cluster import KMeans, DBSCAN, AgglomerativeClustering\n",
    "\n",
    "# Define dataset\n",
    "df = pd.DataFrame(data)\n",
    "\n",
    "# Train clustering models\n",
    "models = {\n",
    "    \"K-Means\": KMeans(n_clusters=2, random_state=42),\n",
    "    \"DBSCAN\": DBSCAN(eps=5, min_samples=2),\n",
    "    \"Agglomerative\": AgglomerativeClustering(n_clusters=2)\n",
    "}\n",
    "\n",
    "for name, model in models.items():\n",
    "    labels = model.fit_predict(df)\n",
    "    print(f\"{name} Cluster Counts: {pd.Series(labels).value_counts().to_dict()}\")\n"
   ]
  },
  {
   "cell_type": "code",
   "execution_count": 33,
   "id": "f3b05ec4",
   "metadata": {},
   "outputs": [
    {
     "name": "stdout",
     "output_type": "stream",
     "text": [
      "KMeans Cluster Counts: {0: 3, 1: 2}\n",
      "DBSCAN Cluster Counts: {1: 3, 0: 2}\n",
      "Agglomerative Cluster Counts: {0: 3, 1: 2}\n"
     ]
    }
   ],
   "source": [
    "import pandas as pd\n",
    "from sklearn.cluster import KMeans, DBSCAN, AgglomerativeClustering\n",
    "\n",
    "# Step 1: Load data\n",
    "data = {\n",
    "    \"Annual_Income\": [50, 55, 60, 65, 70],\n",
    "    \"Spending_Score\": [40, 35, 70, 75, 80]\n",
    "}\n",
    "df = pd.DataFrame(data)\n",
    "X = df.values  # Convert to NumPy array for clustering models\n",
    "\n",
    "# Step 2: KMeans Clustering\n",
    "kmeans = KMeans(n_clusters=2, random_state=42)\n",
    "kmeans_labels = kmeans.fit_predict(X)\n",
    "print(f\"KMeans Cluster Counts: {pd.Series(kmeans_labels).value_counts().to_dict()}\")\n",
    "\n",
    "# Step 3: DBSCAN Clustering\n",
    "dbscan = DBSCAN(eps=10, min_samples=2)\n",
    "dbscan_labels = dbscan.fit_predict(X)\n",
    "print(f\"DBSCAN Cluster Counts: {pd.Series(dbscan_labels).value_counts().to_dict()}\")\n",
    "\n",
    "# Step 4: Agglomerative Clustering\n",
    "agglo = AgglomerativeClustering(n_clusters=2)\n",
    "agglo_labels = agglo.fit_predict(X)\n",
    "print(f\"Agglomerative Cluster Counts: {pd.Series(agglo_labels).value_counts().to_dict()}\")\n"
   ]
  },
  {
   "cell_type": "code",
   "execution_count": 34,
   "id": "d9ad8f09",
   "metadata": {},
   "outputs": [
    {
     "data": {
      "image/png": "[encoded data removed]",
      "text/plain": [
       "<Figure size 640x480 with 1 Axes>"
      ]
     },
     "metadata": {},
     "output_type": "display_data"
    }
   ],
   "source": [
    "import matplotlib.pyplot as plt\n",
    "\n",
    "plt.scatter(df[\"Annual_Income\"], df[\"Spending_Score\"], c=kmeans_labels, cmap='viridis')\n",
    "plt.title(\"KMeans Clustering\")\n",
    "plt.xlabel(\"Annual Income\")\n",
    "plt.ylabel(\"Spending Score\")\n",
    "plt.show()\n"
   ]
  },
  {
   "cell_type": "code",
   "execution_count": null,
   "id": "93d577a9",
   "metadata": {},
   "outputs": [],
   "source": []
  },
  {
   "cell_type": "code",
   "execution_count": null,
   "id": "aceb2dce",
   "metadata": {},
   "outputs": [],
   "source": []
  }
 ],
 "metadata": {
  "kernelspec": {
   "display_name": "Python 3 (ipykernel)",
   "language": "python",
   "name": "python3"
  },
  "language_info": {
   "codemirror_mode": {
    "name": "ipython",
    "version": 3
   },
   "file_extension": ".py",
   "mimetype": "text/x-python",
   "name": "python",
   "nbconvert_exporter": "python",
   "pygments_lexer": "ipython3",
   "version": "3.7.1"
  }
 },
 "nbformat": 4,
 "nbformat_minor": 5
}
