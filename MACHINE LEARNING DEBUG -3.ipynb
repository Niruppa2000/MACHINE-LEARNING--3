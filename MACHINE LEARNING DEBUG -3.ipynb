{
 "cells": [
  {
   "cell_type": "code",
   "execution_count": null,
   "id": "39f50733",
   "metadata": {},
   "outputs": [],
   "source": [
    "#1.The following code throws an error. What is wrong?\n",
    "import tensorflow as tf\n",
    "model = keras.Sequential()  # Error here"
   ]
  },
  {
   "cell_type": "code",
   "execution_count": 17,
   "id": "800f6b44",
   "metadata": {},
   "outputs": [],
   "source": [
    "import tensorflow as tf\n",
    "import keras\n",
    "model = keras.Sequential()"
   ]
  },
  {
   "cell_type": "code",
   "execution_count": null,
   "id": "8e0020d8",
   "metadata": {},
   "outputs": [],
   "source": [
    "#2.\n",
    "from sklearn.svm import SVC\n",
    "from sklearn.datasets import load_diabetes\n",
    "\n",
    "X, y = load_diabetes(return_X_y=True)\n",
    "\n",
    "model = SVC()\n",
    "model.fit(X, y)  # Error"
   ]
  },
  {
   "cell_type": "code",
   "execution_count": 20,
   "id": "e48f1fd7",
   "metadata": {},
   "outputs": [
    {
     "data": {
      "text/plain": [
       "SVR()"
      ]
     },
     "execution_count": 20,
     "metadata": {},
     "output_type": "execute_result"
    }
   ],
   "source": [
    "from sklearn.svm import SVR\n",
    "from sklearn.datasets import load_diabetes\n",
    "\n",
    "X, y = load_diabetes(return_X_y=True)\n",
    "\n",
    "model = SVR()\n",
    "model.fit(X, y)"
   ]
  },
  {
   "cell_type": "code",
   "execution_count": null,
   "id": "d9656435",
   "metadata": {},
   "outputs": [],
   "source": [
    "# 3 question\n",
    "#3.\n",
    "from sklearn.tree import RandomForestClassifier  # Incorrect import\n",
    "clf = RandomForestClassifier()\n"
   ]
  },
  {
   "cell_type": "code",
   "execution_count": 1,
   "id": "da2173fc",
   "metadata": {},
   "outputs": [],
   "source": [
    "from sklearn.ensemble import RandomForestClassifier\n",
    "clf = RandomForestClassifier"
   ]
  },
  {
   "cell_type": "code",
   "execution_count": null,
   "id": "42daf39d",
   "metadata": {},
   "outputs": [],
   "source": [
    "#4.question\n",
    "from sklearn.preprocessing import StandardScaler\n",
    "from sklearn.model_selection import train_test_split\n",
    "\n",
    "X = [[1, 2], [3, 4], [5, 6], [7, 8]]\n",
    "y = [0, 1, 0, 1]\n",
    "\n",
    "X_train, X_test, y_train, y_test = train_test_split(X, y, test_size=0.5)\n",
    "\n",
    "scaler = StandardScaler()\n",
    "X_train = scaler.fit_transform(X_train)\n",
    "X_test = scaler.fit_transform(X_test)  # Error"
   ]
  },
  {
   "cell_type": "code",
   "execution_count": 2,
   "id": "de685bbf",
   "metadata": {},
   "outputs": [],
   "source": [
    "from sklearn.preprocessing import StandardScaler\n",
    "from sklearn.model_selection import train_test_split\n",
    "\n",
    "X = [[1, 2], [3, 4], [5, 6], [7, 8]]\n",
    "y = [0, 1, 0, 1]\n",
    "\n",
    "X_train, X_test, y_train, y_test = train_test_split(X, y, test_size=0.5)\n",
    "\n",
    "scaler = StandardScaler()\n",
    "X_train = scaler.fit_transform(X_train)\n",
    "X_test = scaler.transform(X_test)"
   ]
  },
  {
   "cell_type": "code",
   "execution_count": null,
   "id": "33fd8ac0",
   "metadata": {},
   "outputs": [],
   "source": [
    "#5.\n",
    "import pandas as pd\n",
    "df = pd.DataFrame({'age': [25, 30, 35], 'salary': [50000, 60000, 70000]})\n",
    "print(df['salry'])  # Typo\n"
   ]
  },
  {
   "cell_type": "code",
   "execution_count": 3,
   "id": "b844b940",
   "metadata": {},
   "outputs": [
    {
     "name": "stdout",
     "output_type": "stream",
     "text": [
      "0    50000\n",
      "1    60000\n",
      "2    70000\n",
      "Name: salary, dtype: int64\n"
     ]
    }
   ],
   "source": [
    "import pandas as pd\n",
    "df = pd.DataFrame({'age': [25, 30, 35], 'salary': [50000, 60000, 70000]})\n",
    "print(df['salary'])  \n"
   ]
  },
  {
   "cell_type": "code",
   "execution_count": null,
   "id": "7ee20d28",
   "metadata": {},
   "outputs": [],
   "source": [
    "#6.import pandas as pd\n",
    "df = pd.DataFrame({'Age': ['25', '30', '35']})  # Stored as string\n",
    "print(df['Age'].mean())"
   ]
  },
  {
   "cell_type": "code",
   "execution_count": 6,
   "id": "e71c8ed8",
   "metadata": {},
   "outputs": [
    {
     "name": "stdout",
     "output_type": "stream",
     "text": [
      "30.0\n"
     ]
    }
   ],
   "source": [
    "df = pd.DataFrame({'Age': [25 ,30 ,35]}) \n",
    "print(df['Age'].mean())"
   ]
  },
  {
   "cell_type": "code",
   "execution_count": null,
   "id": "42ee618d",
   "metadata": {},
   "outputs": [],
   "source": [
    "#7.\n",
    "def add_numbers(a, b):\n",
    "result = a + b\n",
    " return result\n"
   ]
  },
  {
   "cell_type": "code",
   "execution_count": 9,
   "id": "f097284e",
   "metadata": {},
   "outputs": [],
   "source": [
    "def add_numbers(a, b):\n",
    "    result = a + b\n",
    "    return result\n"
   ]
  },
  {
   "cell_type": "code",
   "execution_count": null,
   "id": "e8f9c251",
   "metadata": {},
   "outputs": [],
   "source": [
    "#8.\n",
    "from sklearn.model_selection import train_test_split\n",
    "X = [1, 2, 3, 4, 5]\n",
    "y = [1, 0, 1, 0]  # Mismatched length\n",
    "X_train, X_test, y_train, y_test = train_test_split(X, y, test_size=0.2)"
   ]
  },
  {
   "cell_type": "code",
   "execution_count": 10,
   "id": "e52d52bb",
   "metadata": {},
   "outputs": [],
   "source": [
    "from sklearn.model_selection import train_test_split\n",
    "X = [1, 2, 3, 4, 5]\n",
    "y = [1, 0, 1, 0,1] \n",
    "X_train, X_test, y_train, y_test = train_test_split(X, y, test_size=0.2)"
   ]
  },
  {
   "cell_type": "code",
   "execution_count": null,
   "id": "ceecf4d5",
   "metadata": {},
   "outputs": [],
   "source": [
    "#9.\n",
    "print(my_name)\n",
    "my_name = \"Alice\"\n"
   ]
  },
  {
   "cell_type": "code",
   "execution_count": 11,
   "id": "403585df",
   "metadata": {},
   "outputs": [
    {
     "name": "stdout",
     "output_type": "stream",
     "text": [
      "Alice\n"
     ]
    }
   ],
   "source": [
    "my_name = \"Alice\"\n",
    "print(my_name)"
   ]
  },
  {
   "cell_type": "code",
   "execution_count": null,
   "id": "444c10ed",
   "metadata": {},
   "outputs": [],
   "source": [
    "#10.\n",
    "import pandas as pd\n",
    "\n",
    "df = pd.DataFrame({'Age': [25, 30, 35, 40]})\n",
    "df['Age_Category'] = df['Age'].apply(lambda x: 'Young' if x < 30 'Old')  # Error\n"
   ]
  },
  {
   "cell_type": "code",
   "execution_count": 21,
   "id": "dbb435e1",
   "metadata": {},
   "outputs": [
    {
     "name": "stdout",
     "output_type": "stream",
     "text": [
      "   Age Age_Category\n",
      "0   25        Young\n",
      "1   30          Old\n",
      "2   35          Old\n",
      "3   40          Old\n"
     ]
    }
   ],
   "source": [
    "import pandas as pd\n",
    "\n",
    "df = pd.DataFrame({'Age': [25, 30, 35, 40]})\n",
    "df['Age_Category'] = df['Age'].apply(lambda x: 'Young' if x < 30 else 'Old')  \n",
    "print(df)\n"
   ]
  },
  {
   "cell_type": "code",
   "execution_count": null,
   "id": "675b0412",
   "metadata": {},
   "outputs": [],
   "source": []
  }
 ],
 "metadata": {
  "kernelspec": {
   "display_name": "Python 3 (ipykernel)",
   "language": "python",
   "name": "python3"
  },
  "language_info": {
   "codemirror_mode": {
    "name": "ipython",
    "version": 3
   },
   "file_extension": ".py",
   "mimetype": "text/x-python",
   "name": "python",
   "nbconvert_exporter": "python",
   "pygments_lexer": "ipython3",
   "version": "3.7.1"
  }
 },
 "nbformat": 4,
 "nbformat_minor": 5
}
